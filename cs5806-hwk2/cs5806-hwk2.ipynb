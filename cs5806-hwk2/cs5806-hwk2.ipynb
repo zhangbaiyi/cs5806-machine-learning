{
 "cells": [
  {
   "cell_type": "code",
   "execution_count": 68,
   "id": "initial_id",
   "metadata": {
    "ExecuteTime": {
     "end_time": "2024-01-30T19:36:37.924283Z",
     "start_time": "2024-01-30T19:36:37.911596Z"
    },
    "collapsed": true
   },
   "outputs": [],
   "source": [
    "import numpy as np\n",
    "W = np.array([-1,1]).reshape(1,2)\n",
    "b = 1\n",
    "p1 = np.array([-1,1]).reshape(2,1)\n",
    "p2 = np.array([-1,-1]).reshape(2,1)\n",
    "p3 = np.array([0,0]).reshape(2,1)\n",
    "p4 = np.array([1,0]).reshape(2,1)\n",
    "t1 = 1\n",
    "t2 = 1\n",
    "t3 = 0\n",
    "t4 = 0"
   ]
  },
  {
   "cell_type": "code",
   "execution_count": 69,
   "id": "5cbe5912f66882cd",
   "metadata": {
    "ExecuteTime": {
     "end_time": "2024-01-30T19:36:37.924551Z",
     "start_time": "2024-01-30T19:36:37.915552Z"
    },
    "collapsed": false
   },
   "outputs": [],
   "source": [
    "def hardlim(x):\n",
    "    if x>=0:\n",
    "        return 1\n",
    "    else:\n",
    "        return 0"
   ]
  },
  {
   "cell_type": "code",
   "execution_count": 70,
   "id": "e967a5ff",
   "metadata": {},
   "outputs": [],
   "source": [
    "def hardlim_vector(nums):\n",
    "    return np.array([hardlim(x) for x in nums]).reshape(nums.shape)"
   ]
  },
  {
   "cell_type": "code",
   "execution_count": 71,
   "id": "62d4b1cdc6b6f25e",
   "metadata": {
    "ExecuteTime": {
     "end_time": "2024-01-30T19:36:37.924785Z",
     "start_time": "2024-01-30T19:36:37.919430Z"
    },
    "collapsed": false
   },
   "outputs": [
    {
     "name": "stdout",
     "output_type": "stream",
     "text": [
      "1\n"
     ]
    }
   ],
   "source": [
    "print(hardlim(np.dot(W,p2)+b))"
   ]
  },
  {
   "cell_type": "code",
   "execution_count": 72,
   "id": "deba7df92b51f626",
   "metadata": {
    "ExecuteTime": {
     "end_time": "2024-01-30T19:36:37.939541Z",
     "start_time": "2024-01-30T19:36:37.923803Z"
    },
    "collapsed": false
   },
   "outputs": [
    {
     "name": "stdout",
     "output_type": "stream",
     "text": [
      "[[-1  1]] 1 0\n"
     ]
    }
   ],
   "source": [
    "e = t2 - hardlim(np.dot(W,p2)+b)\n",
    "W = W + e*p2.T\n",
    "b = b + e\n",
    "print(W, b, e)"
   ]
  },
  {
   "cell_type": "code",
   "execution_count": 73,
   "id": "a669c093449d0c61",
   "metadata": {
    "ExecuteTime": {
     "end_time": "2024-01-30T19:36:37.940157Z",
     "start_time": "2024-01-30T19:36:37.928613Z"
    },
    "collapsed": false
   },
   "outputs": [
    {
     "name": "stdout",
     "output_type": "stream",
     "text": [
      "1\n"
     ]
    }
   ],
   "source": [
    "print(hardlim(np.dot(W,p3)+b))"
   ]
  },
  {
   "cell_type": "code",
   "execution_count": 74,
   "id": "6006f769d548c44e",
   "metadata": {
    "ExecuteTime": {
     "end_time": "2024-01-30T19:36:37.940345Z",
     "start_time": "2024-01-30T19:36:37.931442Z"
    },
    "collapsed": false
   },
   "outputs": [
    {
     "name": "stdout",
     "output_type": "stream",
     "text": [
      "[[-1  1]] 0 -1\n"
     ]
    }
   ],
   "source": [
    "e = t3 - hardlim(np.dot(W,p3)+b)\n",
    "W = W + e*p3.T\n",
    "b = b + e\n",
    "print(W, b, e)"
   ]
  },
  {
   "cell_type": "code",
   "execution_count": 75,
   "id": "cb61c83f72fcb1ae",
   "metadata": {
    "ExecuteTime": {
     "end_time": "2024-01-30T19:36:37.940482Z",
     "start_time": "2024-01-30T19:36:37.937016Z"
    },
    "collapsed": false
   },
   "outputs": [
    {
     "name": "stdout",
     "output_type": "stream",
     "text": [
      "[[-1  1]] 0 0\n"
     ]
    }
   ],
   "source": [
    "e = t4 - hardlim(np.dot(W,p4)+b)\n",
    "W = W + e*p4.T\n",
    "b = b + e   \n",
    "print(W, b, e)"
   ]
  },
  {
   "cell_type": "code",
   "execution_count": 76,
   "id": "3246787553f8ac15",
   "metadata": {
    "ExecuteTime": {
     "end_time": "2024-01-30T19:37:47.094100Z",
     "start_time": "2024-01-30T19:37:47.091108Z"
    },
    "collapsed": false
   },
   "outputs": [
    {
     "name": "stdout",
     "output_type": "stream",
     "text": [
      "1 1\n"
     ]
    }
   ],
   "source": [
    "print(hardlim(np.dot(W,p1)+b), t1)"
   ]
  },
  {
   "cell_type": "code",
   "execution_count": 77,
   "id": "1b5c47850439e870",
   "metadata": {
    "ExecuteTime": {
     "end_time": "2024-01-30T19:38:04.710307Z",
     "start_time": "2024-01-30T19:38:04.703026Z"
    },
    "collapsed": false
   },
   "outputs": [
    {
     "name": "stdout",
     "output_type": "stream",
     "text": [
      "0 [[-1  1]] 0\n"
     ]
    }
   ],
   "source": [
    "e = t1 - hardlim(np.dot(W,p1)+b)\n",
    "W = W + e*p1.T\n",
    "b = b + e\n",
    "print(e, W, b)"
   ]
  },
  {
   "cell_type": "code",
   "execution_count": 78,
   "id": "1e0f83fcb564d374",
   "metadata": {
    "ExecuteTime": {
     "end_time": "2024-01-30T19:38:34.737558Z",
     "start_time": "2024-01-30T19:38:34.729794Z"
    },
    "collapsed": false
   },
   "outputs": [
    {
     "name": "stdout",
     "output_type": "stream",
     "text": [
      "1 1\n"
     ]
    }
   ],
   "source": [
    "print(hardlim(np.dot(W,p2)+b), t2)"
   ]
  },
  {
   "cell_type": "code",
   "execution_count": 79,
   "id": "acdd5a5d7b7af726",
   "metadata": {
    "ExecuteTime": {
     "end_time": "2024-01-30T19:38:51.585666Z",
     "start_time": "2024-01-30T19:38:51.573556Z"
    },
    "collapsed": false
   },
   "outputs": [
    {
     "name": "stdout",
     "output_type": "stream",
     "text": [
      "0 [[-1  1]] 0\n"
     ]
    }
   ],
   "source": [
    "e = t2 - hardlim(np.dot(W,p2)+b)\n",
    "W = W + e*p2.T\n",
    "b = b + e\n",
    "print(e, W, b)"
   ]
  },
  {
   "cell_type": "code",
   "execution_count": 80,
   "id": "3b20910aa734cfbe",
   "metadata": {
    "ExecuteTime": {
     "end_time": "2024-01-30T19:38:56.304080Z",
     "start_time": "2024-01-30T19:38:56.293913Z"
    },
    "collapsed": false
   },
   "outputs": [
    {
     "name": "stdout",
     "output_type": "stream",
     "text": [
      "1 0\n"
     ]
    }
   ],
   "source": [
    "print(hardlim(np.dot(W,p3)+b), t3)"
   ]
  },
  {
   "cell_type": "code",
   "execution_count": 81,
   "id": "559ff7501611d76",
   "metadata": {
    "ExecuteTime": {
     "end_time": "2024-01-30T19:39:12.695673Z",
     "start_time": "2024-01-30T19:39:12.686617Z"
    },
    "collapsed": false
   },
   "outputs": [
    {
     "name": "stdout",
     "output_type": "stream",
     "text": [
      "-1 [[-1  1]] -1\n"
     ]
    }
   ],
   "source": [
    "e = t3 - hardlim(np.dot(W,p3)+b)\n",
    "W = W + e*p3.T\n",
    "b = b + e\n",
    "print(e, W, b)"
   ]
  },
  {
   "cell_type": "code",
   "execution_count": 82,
   "id": "86381928b5fbdfc9",
   "metadata": {
    "ExecuteTime": {
     "end_time": "2024-01-30T19:39:51.219961Z",
     "start_time": "2024-01-30T19:39:51.217559Z"
    },
    "collapsed": false
   },
   "outputs": [
    {
     "name": "stdout",
     "output_type": "stream",
     "text": [
      "0 0\n"
     ]
    }
   ],
   "source": [
    "print(hardlim(np.dot(W,p4)+b), t4)"
   ]
  },
  {
   "cell_type": "code",
   "execution_count": 83,
   "id": "66dbfbbdd96593ac",
   "metadata": {
    "ExecuteTime": {
     "end_time": "2024-01-30T19:40:18.241454Z",
     "start_time": "2024-01-30T19:40:18.218155Z"
    },
    "collapsed": false
   },
   "outputs": [
    {
     "name": "stdout",
     "output_type": "stream",
     "text": [
      "1 1\n"
     ]
    }
   ],
   "source": [
    "print(hardlim(np.dot(W,p1)+b), t1)"
   ]
  },
  {
   "cell_type": "code",
   "execution_count": 84,
   "id": "7d639bb42f5976ad",
   "metadata": {
    "ExecuteTime": {
     "end_time": "2024-01-30T19:40:30.514140Z",
     "start_time": "2024-01-30T19:40:30.495170Z"
    },
    "collapsed": false
   },
   "outputs": [
    {
     "name": "stdout",
     "output_type": "stream",
     "text": [
      "0 1\n"
     ]
    }
   ],
   "source": [
    "print(hardlim(np.dot(W,p2)+b), t2)"
   ]
  },
  {
   "cell_type": "code",
   "execution_count": 85,
   "id": "cf2b6d20faed2fc0",
   "metadata": {
    "ExecuteTime": {
     "end_time": "2024-01-30T19:40:55.749382Z",
     "start_time": "2024-01-30T19:40:55.739198Z"
    },
    "collapsed": false
   },
   "outputs": [
    {
     "name": "stdout",
     "output_type": "stream",
     "text": [
      "1 [[-2  0]] 0\n"
     ]
    }
   ],
   "source": [
    "e = t2 - hardlim(np.dot(W,p2)+b)\n",
    "W = W + e*p2.T\n",
    "b = b + e\n",
    "print(e, W, b)"
   ]
  },
  {
   "cell_type": "code",
   "execution_count": 86,
   "id": "88457d4374ba48f5",
   "metadata": {
    "ExecuteTime": {
     "end_time": "2024-01-30T19:41:17.386343Z",
     "start_time": "2024-01-30T19:41:17.365987Z"
    },
    "collapsed": false
   },
   "outputs": [
    {
     "name": "stdout",
     "output_type": "stream",
     "text": [
      "1 0\n"
     ]
    }
   ],
   "source": [
    "print(hardlim(np.dot(W,p3)+b), t3)"
   ]
  },
  {
   "cell_type": "code",
   "execution_count": 87,
   "id": "885977fd9e091bdf",
   "metadata": {
    "ExecuteTime": {
     "end_time": "2024-01-30T19:41:34.762888Z",
     "start_time": "2024-01-30T19:41:34.750021Z"
    },
    "collapsed": false
   },
   "outputs": [
    {
     "name": "stdout",
     "output_type": "stream",
     "text": [
      "-1 [[-2  0]] -1\n"
     ]
    }
   ],
   "source": [
    "e = t3 - hardlim(np.dot(W,p3)+b)\n",
    "W = W + e*p3.T\n",
    "b = b + e\n",
    "print(e, W, b)"
   ]
  },
  {
   "cell_type": "code",
   "execution_count": 88,
   "id": "4e759e0339d6be8a",
   "metadata": {
    "ExecuteTime": {
     "end_time": "2024-01-30T19:41:51.757283Z",
     "start_time": "2024-01-30T19:41:51.744381Z"
    },
    "collapsed": false
   },
   "outputs": [
    {
     "name": "stdout",
     "output_type": "stream",
     "text": [
      "0 0\n"
     ]
    }
   ],
   "source": [
    "print(hardlim(np.dot(W,p4)+b), t4)"
   ]
  },
  {
   "cell_type": "code",
   "execution_count": 89,
   "id": "886997d226764466",
   "metadata": {
    "ExecuteTime": {
     "end_time": "2024-01-30T19:42:06.669535Z",
     "start_time": "2024-01-30T19:42:06.657326Z"
    },
    "collapsed": false
   },
   "outputs": [
    {
     "name": "stdout",
     "output_type": "stream",
     "text": [
      "1 1\n"
     ]
    }
   ],
   "source": [
    "print(hardlim(np.dot(W,p1)+b), t1)"
   ]
  },
  {
   "cell_type": "code",
   "execution_count": 90,
   "id": "7f2f90b85a704477",
   "metadata": {
    "ExecuteTime": {
     "end_time": "2024-01-30T19:42:15.445944Z",
     "start_time": "2024-01-30T19:42:15.433559Z"
    },
    "collapsed": false
   },
   "outputs": [
    {
     "name": "stdout",
     "output_type": "stream",
     "text": [
      "1 1\n"
     ]
    }
   ],
   "source": [
    "print(hardlim(np.dot(W,p2)+b), t2)"
   ]
  },
  {
   "cell_type": "code",
   "execution_count": 91,
   "id": "3ba2d3bbbb07ee8e",
   "metadata": {
    "ExecuteTime": {
     "end_time": "2024-01-30T19:42:25.414087Z",
     "start_time": "2024-01-30T19:42:25.395815Z"
    },
    "collapsed": false
   },
   "outputs": [
    {
     "name": "stdout",
     "output_type": "stream",
     "text": [
      "0 0\n"
     ]
    }
   ],
   "source": [
    "print(hardlim(np.dot(W,p3)+b), t3)"
   ]
  },
  {
   "cell_type": "code",
   "execution_count": 92,
   "id": "2c7b6b24a8e0e16d",
   "metadata": {
    "ExecuteTime": {
     "end_time": "2024-01-30T19:42:33.610504Z",
     "start_time": "2024-01-30T19:42:33.592958Z"
    },
    "collapsed": false
   },
   "outputs": [
    {
     "name": "stdout",
     "output_type": "stream",
     "text": [
      "0 0\n"
     ]
    }
   ],
   "source": [
    "print(hardlim(np.dot(W,p4)+b), t4)"
   ]
  },
  {
   "cell_type": "code",
   "execution_count": 93,
   "id": "11bfe77332ced484",
   "metadata": {
    "collapsed": false
   },
   "outputs": [],
   "source": [
    "import numpy as np\n",
    "W = np.array([[0.5,0.5],[0.5,0.5]]).reshape(2,2)\n",
    "b = 0\n",
    "p1_1 = np.array([-1,1]).reshape(2,1)\n",
    "p1_2 = np.array([-1,0]).reshape(2,1)\n",
    "p2_1 = np.array([0,2]).reshape(2,1)\n",
    "p2_2 = np.array([1,2]).reshape(2,1)\n",
    "p3_1 = np.array([2,0]).reshape(2,1)\n",
    "p3_2 = np.array([2,1]).reshape(2,1)\n",
    "p4_1 = np.array([1,-1]).reshape(2,1)\n",
    "p4_2 = np.array([0,-1]).reshape(2,1)\n",
    "t1 = np.array([1,0]).reshape(2,1)\n",
    "t2 = np.array([0,0]).reshape(2,1)\n",
    "t3 = np.array([0,1]).reshape(2,1)\n",
    "t4 = np.array([1,1]).reshape(2,1)"
   ]
  },
  {
   "cell_type": "code",
   "execution_count": 94,
   "id": "9805ee1d",
   "metadata": {},
   "outputs": [],
   "source": [
    "a = hardlim_vector(np.dot(W,p1_1)+b)\n",
    "e = t1 - a"
   ]
  },
  {
   "cell_type": "code",
   "execution_count": 95,
   "id": "feee4b20",
   "metadata": {},
   "outputs": [
    {
     "name": "stdout",
     "output_type": "stream",
     "text": [
      "[[ 0.5  0.5]\n",
      " [ 1.5 -0.5]] [[ 0]\n",
      " [-1]]\n"
     ]
    }
   ],
   "source": [
    "W = W + np.dot(e,p1_1.T)\n",
    "b = b + e\n",
    "print(W, b)"
   ]
  },
  {
   "cell_type": "code",
   "execution_count": 96,
   "id": "67a47d18",
   "metadata": {},
   "outputs": [
    {
     "name": "stdout",
     "output_type": "stream",
     "text": [
      "[[0]\n",
      " [0]]\n",
      "[[1]\n",
      " [0]]\n",
      "[[-0.5  0.5]\n",
      " [ 1.5 -0.5]]\n",
      "[[ 1]\n",
      " [-1]]\n"
     ]
    }
   ],
   "source": [
    "a = hardlim_vector(np.dot(W,p1_2)+b)\n",
    "print(a)\n",
    "e = t1 - a\n",
    "print(e)\n",
    "W = W + np.dot(e,p1_2.T)\n",
    "b = b + e\n",
    "print(W)\n",
    "print(b)"
   ]
  },
  {
   "cell_type": "code",
   "execution_count": 97,
   "id": "b5a2db01",
   "metadata": {},
   "outputs": [
    {
     "name": "stdout",
     "output_type": "stream",
     "text": [
      "[[1]\n",
      " [0]]\n",
      "[[-1]\n",
      " [ 0]]\n",
      "[[-0.5 -1.5]\n",
      " [ 1.5 -0.5]]\n",
      "[[ 0]\n",
      " [-1]]\n"
     ]
    }
   ],
   "source": [
    "a = hardlim_vector(np.dot(W,p2_1)+b)\n",
    "print(a)\n",
    "e = t2 - a\n",
    "print(e)\n",
    "W = W + np.dot(e,p2_1.T)\n",
    "b = b + e\n",
    "print(W)\n",
    "print(b)"
   ]
  },
  {
   "cell_type": "code",
   "execution_count": 98,
   "id": "eec67d75",
   "metadata": {},
   "outputs": [
    {
     "name": "stdout",
     "output_type": "stream",
     "text": [
      "[[0]\n",
      " [0]]\n",
      "[[0]\n",
      " [0]]\n",
      "[[-0.5 -1.5]\n",
      " [ 1.5 -0.5]]\n",
      "[[ 0]\n",
      " [-1]]\n"
     ]
    }
   ],
   "source": [
    "a = hardlim_vector(np.dot(W,p2_2)+b)\n",
    "print(a)\n",
    "e = t2 - a\n",
    "print(e)\n",
    "W = W + np.dot(e,p2_2.T)\n",
    "b = b + e\n",
    "print(W)\n",
    "print(b)"
   ]
  },
  {
   "cell_type": "code",
   "execution_count": 99,
   "id": "dda928fd",
   "metadata": {},
   "outputs": [
    {
     "name": "stdout",
     "output_type": "stream",
     "text": [
      "[[0]\n",
      " [1]]\n",
      "[[0]\n",
      " [0]]\n",
      "[[-0.5 -1.5]\n",
      " [ 1.5 -0.5]]\n",
      "[[ 0]\n",
      " [-1]]\n"
     ]
    }
   ],
   "source": [
    "a = hardlim_vector(np.dot(W,p3_1)+b)\n",
    "print(a)\n",
    "e = t3 - a\n",
    "print(e)\n",
    "W = W + np.dot(e,p3_1.T)\n",
    "b = b + e\n",
    "print(W)\n",
    "print(b)"
   ]
  },
  {
   "cell_type": "code",
   "execution_count": 100,
   "id": "a32c496d",
   "metadata": {},
   "outputs": [
    {
     "name": "stdout",
     "output_type": "stream",
     "text": [
      "[[0]\n",
      " [1]]\n",
      "[[0]\n",
      " [0]]\n",
      "[[-0.5 -1.5]\n",
      " [ 1.5 -0.5]]\n",
      "[[ 0]\n",
      " [-1]]\n"
     ]
    }
   ],
   "source": [
    "a = hardlim_vector(np.dot(W,p3_2)+b)\n",
    "print(a)\n",
    "e = t3 - a\n",
    "print(e)\n",
    "W = W + np.dot(e,p3_2.T)\n",
    "b = b + e\n",
    "print(W)\n",
    "print(b)"
   ]
  },
  {
   "cell_type": "code",
   "execution_count": 101,
   "id": "94c059e6",
   "metadata": {},
   "outputs": [
    {
     "name": "stdout",
     "output_type": "stream",
     "text": [
      "[[1]\n",
      " [0]]\n",
      "[[0]\n",
      " [1]]\n",
      "[[-0.5 -1.5]\n",
      " [ 1.5 -1.5]]\n",
      "[[0]\n",
      " [0]]\n"
     ]
    }
   ],
   "source": [
    "a = hardlim_vector(np.dot(W,p4_2)+b)\n",
    "print(a)\n",
    "e = t4 - a\n",
    "print(e)\n",
    "W = W + np.dot(e,p4_2.T)\n",
    "b = b + e\n",
    "print(W)\n",
    "print(b)"
   ]
  },
  {
   "cell_type": "code",
   "execution_count": 102,
   "id": "199dd078",
   "metadata": {},
   "outputs": [
    {
     "name": "stdout",
     "output_type": "stream",
     "text": [
      "[[0]\n",
      " [0]]\n",
      "[[1]\n",
      " [0]]\n",
      "[[-1.5 -0.5]\n",
      " [ 1.5 -1.5]]\n",
      "[[1]\n",
      " [0]]\n"
     ]
    }
   ],
   "source": [
    "a = hardlim_vector(np.dot(W,p1_1)+b)\n",
    "print(a)\n",
    "e = t1 - a\n",
    "print(e)\n",
    "W = W + np.dot(e,p1_1.T)\n",
    "b = b + e\n",
    "print(W)\n",
    "print(b)"
   ]
  },
  {
   "cell_type": "code",
   "execution_count": 103,
   "id": "d6f19bfd",
   "metadata": {},
   "outputs": [
    {
     "name": "stdout",
     "output_type": "stream",
     "text": [
      "[[1]\n",
      " [0]]\n",
      "[[0]\n",
      " [0]]\n",
      "[[-1.5 -0.5]\n",
      " [ 1.5 -1.5]]\n",
      "[[1]\n",
      " [0]]\n"
     ]
    }
   ],
   "source": [
    "a = hardlim_vector(np.dot(W,p1_2)+b)\n",
    "print(a)\n",
    "e = t1 - a\n",
    "print(e)\n",
    "W = W + np.dot(e,p1_2.T)\n",
    "b = b + e\n",
    "print(W)\n",
    "print(b)"
   ]
  },
  {
   "cell_type": "code",
   "execution_count": 104,
   "id": "ba2e4a81",
   "metadata": {},
   "outputs": [
    {
     "name": "stdout",
     "output_type": "stream",
     "text": [
      "[[1]\n",
      " [0]]\n",
      "[[-1]\n",
      " [ 0]]\n",
      "[[-1.5 -2.5]\n",
      " [ 1.5 -1.5]]\n",
      "[[0]\n",
      " [0]]\n"
     ]
    }
   ],
   "source": [
    "a = hardlim_vector(np.dot(W,p2_1)+b)\n",
    "print(a)\n",
    "e = t2 - a\n",
    "print(e)\n",
    "W = W + np.dot(e,p2_1.T)\n",
    "b = b + e\n",
    "print(W)\n",
    "print(b)"
   ]
  },
  {
   "cell_type": "code",
   "execution_count": 105,
   "id": "fd94d41c",
   "metadata": {},
   "outputs": [
    {
     "name": "stdout",
     "output_type": "stream",
     "text": [
      "[[0]\n",
      " [0]]\n",
      "[[0]\n",
      " [0]]\n",
      "[[-1.5 -2.5]\n",
      " [ 1.5 -1.5]]\n",
      "[[0]\n",
      " [0]]\n"
     ]
    }
   ],
   "source": [
    "a = hardlim_vector(np.dot(W,p2_2)+b)\n",
    "print(a)\n",
    "e = t2 - a\n",
    "print(e)\n",
    "W = W + np.dot(e,p2_2.T)\n",
    "b = b + e\n",
    "print(W)\n",
    "print(b)"
   ]
  },
  {
   "cell_type": "code",
   "execution_count": 106,
   "id": "74017dc1",
   "metadata": {},
   "outputs": [
    {
     "name": "stdout",
     "output_type": "stream",
     "text": [
      "[[0]\n",
      " [1]]\n",
      "[[0]\n",
      " [0]]\n",
      "[[-1.5 -2.5]\n",
      " [ 1.5 -1.5]]\n",
      "[[0]\n",
      " [0]]\n"
     ]
    }
   ],
   "source": [
    "a = hardlim_vector(np.dot(W,p3_1)+b)\n",
    "print(a)\n",
    "e = t3 - a\n",
    "print(e)\n",
    "W = W + np.dot(e,p3_1.T)\n",
    "b = b + e\n",
    "print(W)\n",
    "print(b)"
   ]
  },
  {
   "cell_type": "code",
   "execution_count": 107,
   "id": "b22f1a7b",
   "metadata": {},
   "outputs": [
    {
     "name": "stdout",
     "output_type": "stream",
     "text": [
      "[[0]\n",
      " [1]]\n",
      "[[0]\n",
      " [0]]\n",
      "[[-1.5 -2.5]\n",
      " [ 1.5 -1.5]]\n",
      "[[0]\n",
      " [0]]\n"
     ]
    }
   ],
   "source": [
    "a = hardlim_vector(np.dot(W,p3_2)+b)\n",
    "print(a)\n",
    "e = t3 - a\n",
    "print(e)\n",
    "W = W + np.dot(e,p3_2.T)\n",
    "b = b + e\n",
    "print(W)\n",
    "print(b)"
   ]
  },
  {
   "cell_type": "code",
   "execution_count": 108,
   "id": "dbcf2a92",
   "metadata": {},
   "outputs": [
    {
     "name": "stdout",
     "output_type": "stream",
     "text": [
      "[[1]\n",
      " [1]]\n",
      "[[0]\n",
      " [0]]\n",
      "[[-1.5 -2.5]\n",
      " [ 1.5 -1.5]]\n",
      "[[0]\n",
      " [0]]\n"
     ]
    }
   ],
   "source": [
    "a = hardlim_vector(np.dot(W,p4_1)+b)\n",
    "print(a)\n",
    "e = t4 - a\n",
    "print(e)\n",
    "W = W + np.dot(e,p4_1.T)\n",
    "b = b + e\n",
    "print(W)\n",
    "print(b)"
   ]
  },
  {
   "cell_type": "code",
   "execution_count": 109,
   "id": "76db21bc",
   "metadata": {},
   "outputs": [
    {
     "name": "stdout",
     "output_type": "stream",
     "text": [
      "[[1]\n",
      " [1]]\n",
      "[[0]\n",
      " [0]]\n",
      "[[-1.5 -2.5]\n",
      " [ 1.5 -1.5]]\n",
      "[[0]\n",
      " [0]]\n"
     ]
    }
   ],
   "source": [
    "a = hardlim_vector(np.dot(W,p4_2)+b)\n",
    "print(a)\n",
    "e = t4 - a\n",
    "print(e)\n",
    "W = W + np.dot(e,p4_2.T)\n",
    "b = b + e\n",
    "print(W)\n",
    "print(b)"
   ]
  },
  {
   "cell_type": "code",
   "execution_count": 110,
   "id": "86ab1f21",
   "metadata": {},
   "outputs": [
    {
     "name": "stdout",
     "output_type": "stream",
     "text": [
      "[[0]\n",
      " [0]]\n",
      "[[1]\n",
      " [0]]\n",
      "[[-2.5 -1.5]\n",
      " [ 1.5 -1.5]]\n",
      "[[1]\n",
      " [0]]\n"
     ]
    }
   ],
   "source": [
    "a = hardlim_vector(np.dot(W,p1_1)+b)\n",
    "print(a)\n",
    "e = t1 - a\n",
    "print(e)\n",
    "W = W + np.dot(e,p1_1.T)\n",
    "b = b + e\n",
    "print(W)\n",
    "print(b)"
   ]
  },
  {
   "cell_type": "code",
   "execution_count": 111,
   "id": "4f098546",
   "metadata": {},
   "outputs": [
    {
     "name": "stdout",
     "output_type": "stream",
     "text": [
      "[[1]\n",
      " [0]]\n",
      "[[0]\n",
      " [0]]\n",
      "[[-2.5 -1.5]\n",
      " [ 1.5 -1.5]]\n",
      "[[1]\n",
      " [0]]\n"
     ]
    }
   ],
   "source": [
    "a = hardlim_vector(np.dot(W,p1_2)+b)\n",
    "print(a)\n",
    "e = t1 - a\n",
    "print(e)\n",
    "W = W + np.dot(e,p1_2.T)\n",
    "b = b + e\n",
    "print(W)\n",
    "print(b)"
   ]
  },
  {
   "cell_type": "code",
   "execution_count": 112,
   "id": "1b4fd750",
   "metadata": {},
   "outputs": [
    {
     "name": "stdout",
     "output_type": "stream",
     "text": [
      "[[0]\n",
      " [0]]\n",
      "[[0]\n",
      " [0]]\n",
      "[[-2.5 -1.5]\n",
      " [ 1.5 -1.5]]\n",
      "[[1]\n",
      " [0]]\n"
     ]
    }
   ],
   "source": [
    "a = hardlim_vector(np.dot(W,p2_1)+b)\n",
    "print(a)\n",
    "e = t2 - a\n",
    "print(e)\n",
    "W = W + np.dot(e,p2_1.T)\n",
    "b = b + e\n",
    "print(W)\n",
    "print(b)"
   ]
  },
  {
   "cell_type": "code",
   "execution_count": 113,
   "id": "ed31c156",
   "metadata": {},
   "outputs": [
    {
     "name": "stdout",
     "output_type": "stream",
     "text": [
      "[[0]\n",
      " [0]]\n",
      "[[0]\n",
      " [0]]\n",
      "[[-2.5 -1.5]\n",
      " [ 1.5 -1.5]]\n",
      "[[1]\n",
      " [0]]\n"
     ]
    }
   ],
   "source": [
    "a = hardlim_vector(np.dot(W,p2_2)+b)\n",
    "print(a)\n",
    "e = t2 - a\n",
    "print(e)\n",
    "W = W + np.dot(e,p2_2.T)\n",
    "b = b + e\n",
    "print(W)\n",
    "print(b)"
   ]
  },
  {
   "cell_type": "code",
   "execution_count": 114,
   "id": "ee6ff038",
   "metadata": {},
   "outputs": [
    {
     "name": "stdout",
     "output_type": "stream",
     "text": [
      "[[0]\n",
      " [1]]\n",
      "[[0]\n",
      " [0]]\n",
      "[[-2.5 -1.5]\n",
      " [ 1.5 -1.5]]\n",
      "[[1]\n",
      " [0]]\n"
     ]
    }
   ],
   "source": [
    "a = hardlim_vector(np.dot(W,p3_1)+b)\n",
    "print(a)\n",
    "e = t3 - a\n",
    "print(e)\n",
    "W = W + np.dot(e,p3_1.T)\n",
    "b = b + e\n",
    "print(W)\n",
    "print(b)"
   ]
  },
  {
   "cell_type": "code",
   "execution_count": 115,
   "id": "6839389b",
   "metadata": {},
   "outputs": [
    {
     "name": "stdout",
     "output_type": "stream",
     "text": [
      "[[0]\n",
      " [1]]\n",
      "[[0]\n",
      " [0]]\n",
      "[[-2.5 -1.5]\n",
      " [ 1.5 -1.5]]\n",
      "[[1]\n",
      " [0]]\n"
     ]
    }
   ],
   "source": [
    "a = hardlim_vector(np.dot(W,p3_2)+b)\n",
    "print(a)\n",
    "e = t3 - a\n",
    "print(e)\n",
    "W = W + np.dot(e,p3_2.T)\n",
    "b = b + e\n",
    "print(W)\n",
    "print(b)"
   ]
  },
  {
   "cell_type": "code",
   "execution_count": 116,
   "id": "6446a6f5",
   "metadata": {},
   "outputs": [
    {
     "name": "stdout",
     "output_type": "stream",
     "text": [
      "[[0]\n",
      " [1]]\n",
      "[[0]\n",
      " [0]]\n",
      "[[-2.5 -1.5]\n",
      " [ 1.5 -1.5]]\n",
      "[[1]\n",
      " [0]]\n"
     ]
    }
   ],
   "source": [
    "a = hardlim_vector(np.dot(W,p3_2)+b)\n",
    "print(a)\n",
    "e = t3 - a\n",
    "print(e)\n",
    "W = W + np.dot(e,p3_2.T)\n",
    "b = b + e\n",
    "print(W)\n",
    "print(b)"
   ]
  },
  {
   "cell_type": "code",
   "execution_count": 117,
   "id": "167f375e",
   "metadata": {},
   "outputs": [],
   "source": [
    "W = np.array([[-1,-1],[1,-1]]).reshape(2,2)\n",
    "b = np.array([1,0]).reshape(2,1)\n",
    "p1_1 = np.array([-1,1]).reshape(2,1)\n",
    "p1_2 = np.array([-1,0]).reshape(2,1)\n",
    "p2_1 = np.array([0,2]).reshape(2,1)\n",
    "p2_2 = np.array([1,2]).reshape(2,1)\n",
    "p3_1 = np.array([2,0]).reshape(2,1)\n",
    "p3_2 = np.array([2,1]).reshape(2,1)\n",
    "p4_1 = np.array([1,-1]).reshape(2,1)\n",
    "p4_2 = np.array([0,-1]).reshape(2,1)\n",
    "t1 = np.array([1,0]).reshape(2,1)\n",
    "t2 = np.array([0,0]).reshape(2,1)\n",
    "t3 = np.array([0,1]).reshape(2,1)\n",
    "t4 = np.array([1,1]).reshape(2,1)"
   ]
  },
  {
   "cell_type": "code",
   "execution_count": 118,
   "id": "bf68ba75",
   "metadata": {},
   "outputs": [
    {
     "name": "stdout",
     "output_type": "stream",
     "text": [
      "[[1]\n",
      " [0]]\n",
      "[[0]\n",
      " [0]]\n"
     ]
    }
   ],
   "source": [
    "a11 = hardlim_vector(np.dot(W,p1_1)+b)\n",
    "e11 = t1 - a11\n",
    "print(a11)\n",
    "print(e11)"
   ]
  },
  {
   "cell_type": "code",
   "execution_count": 119,
   "id": "33b0b001",
   "metadata": {},
   "outputs": [
    {
     "name": "stdout",
     "output_type": "stream",
     "text": [
      "[[1]\n",
      " [0]]\n",
      "[[0]\n",
      " [0]]\n"
     ]
    }
   ],
   "source": [
    "a12 = hardlim_vector(np.dot(W,p1_2)+b)\n",
    "e12 = t1 - a12\n",
    "print(a12)\n",
    "print(e12)"
   ]
  },
  {
   "cell_type": "code",
   "execution_count": 120,
   "id": "1438294e",
   "metadata": {},
   "outputs": [
    {
     "name": "stdout",
     "output_type": "stream",
     "text": [
      "[[0]\n",
      " [0]]\n",
      "[[0]\n",
      " [0]]\n"
     ]
    }
   ],
   "source": [
    "a21 = hardlim_vector(np.dot(W,p2_1)+b)  \n",
    "e21 = t2 - a21\n",
    "print(a21)\n",
    "print(e21)\n"
   ]
  },
  {
   "cell_type": "code",
   "execution_count": 121,
   "id": "fc3b04a7",
   "metadata": {},
   "outputs": [
    {
     "name": "stdout",
     "output_type": "stream",
     "text": [
      "[[0]\n",
      " [0]]\n",
      "[[0]\n",
      " [0]]\n"
     ]
    }
   ],
   "source": [
    "a22 = hardlim_vector(np.dot(W,p2_2)+b)\n",
    "e22 = t2 - a22\n",
    "print(a22)\n",
    "print(e22)"
   ]
  },
  {
   "cell_type": "code",
   "execution_count": 122,
   "id": "ca9fa859",
   "metadata": {},
   "outputs": [
    {
     "name": "stdout",
     "output_type": "stream",
     "text": [
      "[[0]\n",
      " [1]]\n",
      "[[0]\n",
      " [0]]\n"
     ]
    }
   ],
   "source": [
    "a31 = hardlim_vector(np.dot(W,p3_1)+b)\n",
    "e31 = t3 - a31\n",
    "print(a31)\n",
    "print(e31)"
   ]
  },
  {
   "cell_type": "code",
   "execution_count": 123,
   "id": "f68e2e7b",
   "metadata": {},
   "outputs": [
    {
     "name": "stdout",
     "output_type": "stream",
     "text": [
      "[[0]\n",
      " [1]]\n",
      "[[0]\n",
      " [0]]\n"
     ]
    }
   ],
   "source": [
    "a32 = hardlim_vector(np.dot(W,p3_2)+b)\n",
    "e32 = t3 - a32\n",
    "print(a32)\n",
    "print(e32)"
   ]
  },
  {
   "cell_type": "code",
   "execution_count": 124,
   "id": "01157527",
   "metadata": {},
   "outputs": [
    {
     "name": "stdout",
     "output_type": "stream",
     "text": [
      "[[1]\n",
      " [1]]\n",
      "[[0]\n",
      " [0]]\n"
     ]
    }
   ],
   "source": [
    "a41 = hardlim_vector(np.dot(W,p4_1)+b)\n",
    "e41 = t4 - a41\n",
    "print(a41)\n",
    "print(e41)"
   ]
  },
  {
   "cell_type": "code",
   "execution_count": 125,
   "id": "aaf9b3a9",
   "metadata": {},
   "outputs": [
    {
     "name": "stdout",
     "output_type": "stream",
     "text": [
      "[[1]\n",
      " [1]]\n",
      "[[0]\n",
      " [0]]\n"
     ]
    }
   ],
   "source": [
    "a42 = hardlim_vector(np.dot(W,p4_2)+b)\n",
    "e42 = t4 - a42\n",
    "print(a42)\n",
    "print(e42)"
   ]
  },
  {
   "cell_type": "code",
   "execution_count": 126,
   "id": "d04b1957",
   "metadata": {},
   "outputs": [
    {
     "name": "stdout",
     "output_type": "stream",
     "text": [
      "[[1]\n",
      " [1]]\n",
      "[[ 0]\n",
      " [-1]]\n",
      "[[-1 -1]\n",
      " [ 2  2]]\n",
      "[[ 1]\n",
      " [-1]]\n"
     ]
    }
   ],
   "source": [
    "p1_3= np.array([-1,-3]).reshape(2,1)\n",
    "a13 = hardlim_vector(np.dot(W,p1_3)+b)\n",
    "e13 = t1 - a13\n",
    "print(a13)\n",
    "print(e13)\n",
    "W = W + np.dot(e13,p1_3.T)\n",
    "b = b + e13\n",
    "print(W)\n",
    "print(b)"
   ]
  },
  {
   "cell_type": "code",
   "execution_count": 127,
   "id": "41eedfdc",
   "metadata": {},
   "outputs": [
    {
     "name": "stdout",
     "output_type": "stream",
     "text": [
      "[[1]\n",
      " [0]]\n",
      "[[0]\n",
      " [0]]\n"
     ]
    }
   ],
   "source": [
    "a11 = hardlim_vector(np.dot(W,p1_1)+b)\n",
    "e11 = t1 - a11\n",
    "print(a11)\n",
    "print(e11)\n"
   ]
  },
  {
   "cell_type": "code",
   "execution_count": 128,
   "id": "49ce4e3b",
   "metadata": {},
   "outputs": [
    {
     "name": "stdout",
     "output_type": "stream",
     "text": [
      "[[1]\n",
      " [0]]\n",
      "[[0]\n",
      " [0]]\n"
     ]
    }
   ],
   "source": [
    "a12 = hardlim_vector(np.dot(W,p1_2)+b)\n",
    "e12 = t1 - a12\n",
    "print(a12)\n",
    "print(e12)"
   ]
  },
  {
   "cell_type": "code",
   "execution_count": 129,
   "id": "b4ec3da3",
   "metadata": {},
   "outputs": [
    {
     "name": "stdout",
     "output_type": "stream",
     "text": [
      "[[0]\n",
      " [1]]\n",
      "[[ 0]\n",
      " [-1]]\n",
      "[[-1 -1]\n",
      " [ 2  0]]\n",
      "[[ 1]\n",
      " [-2]]\n"
     ]
    }
   ],
   "source": [
    "a21 = hardlim_vector(np.dot(W,p2_1)+b)\n",
    "e21 = t2 - a21\n",
    "print(a21)\n",
    "print(e21)\n",
    "W = W + np.dot(e21,p2_1.T)\n",
    "b = b + e21\n",
    "print(W)\n",
    "print(b)"
   ]
  },
  {
   "cell_type": "code",
   "execution_count": 130,
   "id": "a291c9e0",
   "metadata": {},
   "outputs": [
    {
     "name": "stdout",
     "output_type": "stream",
     "text": [
      "[[0]\n",
      " [1]]\n",
      "[[ 0]\n",
      " [-1]]\n",
      "[[-1 -1]\n",
      " [ 1 -2]]\n",
      "[[ 1]\n",
      " [-3]]\n"
     ]
    }
   ],
   "source": [
    "a22 = hardlim_vector(np.dot(W,p2_2)+b)\n",
    "e22 = t2 - a22\n",
    "print(a22)\n",
    "print(e22)\n",
    "W = W + np.dot(e22,p2_2.T)\n",
    "b = b + e22\n",
    "print(W)\n",
    "print(b)"
   ]
  },
  {
   "cell_type": "code",
   "execution_count": 131,
   "id": "db76d48d",
   "metadata": {},
   "outputs": [
    {
     "name": "stdout",
     "output_type": "stream",
     "text": [
      "[[0]\n",
      " [0]]\n",
      "[[0]\n",
      " [1]]\n",
      "[[-1 -1]\n",
      " [ 3 -2]]\n",
      "[[ 1]\n",
      " [-2]]\n"
     ]
    }
   ],
   "source": [
    "a31 = hardlim_vector(np.dot(W,p3_1)+b)\n",
    "e31 = t3 - a31\n",
    "print(a31)\n",
    "print(e31)\n",
    "W = W + np.dot(e31,p3_1.T)\n",
    "b = b + e31\n",
    "print(W)\n",
    "print(b)"
   ]
  },
  {
   "cell_type": "code",
   "execution_count": 132,
   "id": "c502e208",
   "metadata": {},
   "outputs": [
    {
     "name": "stdout",
     "output_type": "stream",
     "text": [
      "[[0]\n",
      " [1]]\n",
      "[[0]\n",
      " [0]]\n",
      "[[-1 -1]\n",
      " [ 3 -2]]\n",
      "[[ 1]\n",
      " [-2]]\n"
     ]
    }
   ],
   "source": [
    "a32 = hardlim_vector(np.dot(W,p3_2)+b)\n",
    "e32 = t3 - a32\n",
    "print(a32)\n",
    "print(e32)\n",
    "W = W + np.dot(e32,p3_2.T)\n",
    "b = b + e32\n",
    "print(W)\n",
    "print(b)"
   ]
  },
  {
   "cell_type": "code",
   "execution_count": 133,
   "id": "4b7c670e",
   "metadata": {},
   "outputs": [
    {
     "name": "stdout",
     "output_type": "stream",
     "text": [
      "[[1]\n",
      " [1]]\n",
      "[[0]\n",
      " [0]]\n",
      "[[-1 -1]\n",
      " [ 3 -2]]\n",
      "[[ 1]\n",
      " [-2]]\n"
     ]
    }
   ],
   "source": [
    "a41 = hardlim_vector(np.dot(W,p4_1)+b)  \n",
    "e41 = t4 - a41\n",
    "print(a41)\n",
    "print(e41)\n",
    "W = W + np.dot(e41,p4_1.T)\n",
    "b = b + e41\n",
    "print(W)\n",
    "print(b)\n"
   ]
  },
  {
   "cell_type": "code",
   "execution_count": 134,
   "id": "b2f0162f",
   "metadata": {},
   "outputs": [
    {
     "name": "stdout",
     "output_type": "stream",
     "text": [
      "[[1]\n",
      " [1]]\n",
      "[[0]\n",
      " [0]]\n",
      "[[-1 -1]\n",
      " [ 3 -2]]\n",
      "[[ 1]\n",
      " [-2]]\n"
     ]
    }
   ],
   "source": [
    "a42 = hardlim_vector(np.dot(W,p4_2)+b)\n",
    "e42 = t4 - a42\n",
    "print(a42)\n",
    "print(e42)\n",
    "W = W + np.dot(e42,p4_2.T)\n",
    "b = b + e42\n",
    "print(W)\n",
    "print(b)\n"
   ]
  }
 ],
 "metadata": {
  "kernelspec": {
   "display_name": "Python 3",
   "language": "python",
   "name": "python3"
  },
  "language_info": {
   "codemirror_mode": {
    "name": "ipython",
    "version": 3
   },
   "file_extension": ".py",
   "mimetype": "text/x-python",
   "name": "python",
   "nbconvert_exporter": "python",
   "pygments_lexer": "ipython3",
   "version": "3.10.13"
  }
 },
 "nbformat": 4,
 "nbformat_minor": 5
}
