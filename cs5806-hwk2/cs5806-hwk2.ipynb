{
 "cells": [
  {
   "cell_type": "code",
   "execution_count": 29,
   "id": "initial_id",
   "metadata": {
    "collapsed": true,
    "ExecuteTime": {
     "end_time": "2024-01-30T19:36:37.924283Z",
     "start_time": "2024-01-30T19:36:37.911596Z"
    }
   },
   "outputs": [],
   "source": [
    "import numpy as np\n",
    "W = np.array([-1,1]).reshape(1,2)\n",
    "b = 1\n",
    "p1 = np.array([-1,1]).reshape(2,1)\n",
    "p2 = np.array([-1,-1]).reshape(2,1)\n",
    "p3 = np.array([0,0]).reshape(2,1)\n",
    "p4 = np.array([1,0]).reshape(2,1)\n",
    "t1 = 1\n",
    "t2 = 1\n",
    "t3 = 0\n",
    "t4 = 0"
   ]
  },
  {
   "cell_type": "code",
   "execution_count": 30,
   "outputs": [],
   "source": [
    "def hardlim(x):\n",
    "    if x>=0:\n",
    "        return 1\n",
    "    else:\n",
    "        return 0"
   ],
   "metadata": {
    "collapsed": false,
    "ExecuteTime": {
     "end_time": "2024-01-30T19:36:37.924551Z",
     "start_time": "2024-01-30T19:36:37.915552Z"
    }
   },
   "id": "5cbe5912f66882cd"
  },
  {
   "cell_type": "code",
   "execution_count": 31,
   "outputs": [
    {
     "name": "stdout",
     "output_type": "stream",
     "text": [
      "1\n"
     ]
    }
   ],
   "source": [
    "print(hardlim(np.dot(W,p2)+b))"
   ],
   "metadata": {
    "collapsed": false,
    "ExecuteTime": {
     "end_time": "2024-01-30T19:36:37.924785Z",
     "start_time": "2024-01-30T19:36:37.919430Z"
    }
   },
   "id": "62d4b1cdc6b6f25e"
  },
  {
   "cell_type": "code",
   "execution_count": 32,
   "outputs": [
    {
     "name": "stdout",
     "output_type": "stream",
     "text": [
      "[[-1  1]] 1 0\n"
     ]
    }
   ],
   "source": [
    "e = t2 - hardlim(np.dot(W,p2)+b)\n",
    "W = W + e*p2.T\n",
    "b = b + e\n",
    "print(W, b, e)"
   ],
   "metadata": {
    "collapsed": false,
    "ExecuteTime": {
     "end_time": "2024-01-30T19:36:37.939541Z",
     "start_time": "2024-01-30T19:36:37.923803Z"
    }
   },
   "id": "deba7df92b51f626"
  },
  {
   "cell_type": "code",
   "execution_count": 33,
   "outputs": [
    {
     "name": "stdout",
     "output_type": "stream",
     "text": [
      "1\n"
     ]
    }
   ],
   "source": [
    "print(hardlim(np.dot(W,p3)+b))"
   ],
   "metadata": {
    "collapsed": false,
    "ExecuteTime": {
     "end_time": "2024-01-30T19:36:37.940157Z",
     "start_time": "2024-01-30T19:36:37.928613Z"
    }
   },
   "id": "a669c093449d0c61"
  },
  {
   "cell_type": "code",
   "execution_count": 34,
   "outputs": [
    {
     "name": "stdout",
     "output_type": "stream",
     "text": [
      "[[-1  1]] 0 -1\n"
     ]
    }
   ],
   "source": [
    "e = t3 - hardlim(np.dot(W,p3)+b)\n",
    "W = W + e*p3.T\n",
    "b = b + e\n",
    "print(W, b, e)"
   ],
   "metadata": {
    "collapsed": false,
    "ExecuteTime": {
     "end_time": "2024-01-30T19:36:37.940345Z",
     "start_time": "2024-01-30T19:36:37.931442Z"
    }
   },
   "id": "6006f769d548c44e"
  },
  {
   "cell_type": "code",
   "execution_count": 35,
   "outputs": [
    {
     "name": "stdout",
     "output_type": "stream",
     "text": [
      "[[-1  1]] 0 0\n"
     ]
    }
   ],
   "source": [
    "e = t4 - hardlim(np.dot(W,p4)+b)\n",
    "W = W + e*p4.T\n",
    "b = b + e   \n",
    "print(W, b, e)"
   ],
   "metadata": {
    "collapsed": false,
    "ExecuteTime": {
     "end_time": "2024-01-30T19:36:37.940482Z",
     "start_time": "2024-01-30T19:36:37.937016Z"
    }
   },
   "id": "cb61c83f72fcb1ae"
  },
  {
   "cell_type": "code",
   "execution_count": 37,
   "outputs": [
    {
     "name": "stdout",
     "output_type": "stream",
     "text": [
      "1 1\n"
     ]
    }
   ],
   "source": [
    "print(hardlim(np.dot(W,p1)+b), t1)"
   ],
   "metadata": {
    "collapsed": false,
    "ExecuteTime": {
     "end_time": "2024-01-30T19:37:47.094100Z",
     "start_time": "2024-01-30T19:37:47.091108Z"
    }
   },
   "id": "3246787553f8ac15"
  },
  {
   "cell_type": "code",
   "execution_count": 38,
   "outputs": [
    {
     "name": "stdout",
     "output_type": "stream",
     "text": [
      "0 [[-1  1]] 0\n"
     ]
    }
   ],
   "source": [
    "e = t1 - hardlim(np.dot(W,p1)+b)\n",
    "W = W + e*p1.T\n",
    "b = b + e\n",
    "print(e, W, b)"
   ],
   "metadata": {
    "collapsed": false,
    "ExecuteTime": {
     "end_time": "2024-01-30T19:38:04.710307Z",
     "start_time": "2024-01-30T19:38:04.703026Z"
    }
   },
   "id": "1b5c47850439e870"
  },
  {
   "cell_type": "code",
   "execution_count": 39,
   "outputs": [
    {
     "name": "stdout",
     "output_type": "stream",
     "text": [
      "1 1\n"
     ]
    }
   ],
   "source": [
    "print(hardlim(np.dot(W,p2)+b), t2)"
   ],
   "metadata": {
    "collapsed": false,
    "ExecuteTime": {
     "end_time": "2024-01-30T19:38:34.737558Z",
     "start_time": "2024-01-30T19:38:34.729794Z"
    }
   },
   "id": "1e0f83fcb564d374"
  },
  {
   "cell_type": "code",
   "execution_count": 40,
   "outputs": [
    {
     "name": "stdout",
     "output_type": "stream",
     "text": [
      "0 [[-1  1]] 0\n"
     ]
    }
   ],
   "source": [
    "e = t2 - hardlim(np.dot(W,p2)+b)\n",
    "W = W + e*p2.T\n",
    "b = b + e\n",
    "print(e, W, b)"
   ],
   "metadata": {
    "collapsed": false,
    "ExecuteTime": {
     "end_time": "2024-01-30T19:38:51.585666Z",
     "start_time": "2024-01-30T19:38:51.573556Z"
    }
   },
   "id": "acdd5a5d7b7af726"
  },
  {
   "cell_type": "code",
   "execution_count": 41,
   "outputs": [
    {
     "name": "stdout",
     "output_type": "stream",
     "text": [
      "1 0\n"
     ]
    }
   ],
   "source": [
    "print(hardlim(np.dot(W,p3)+b), t3)"
   ],
   "metadata": {
    "collapsed": false,
    "ExecuteTime": {
     "end_time": "2024-01-30T19:38:56.304080Z",
     "start_time": "2024-01-30T19:38:56.293913Z"
    }
   },
   "id": "3b20910aa734cfbe"
  },
  {
   "cell_type": "code",
   "execution_count": 42,
   "outputs": [
    {
     "name": "stdout",
     "output_type": "stream",
     "text": [
      "-1 [[-1  1]] -1\n"
     ]
    }
   ],
   "source": [
    "e = t3 - hardlim(np.dot(W,p3)+b)\n",
    "W = W + e*p3.T\n",
    "b = b + e\n",
    "print(e, W, b)"
   ],
   "metadata": {
    "collapsed": false,
    "ExecuteTime": {
     "end_time": "2024-01-30T19:39:12.695673Z",
     "start_time": "2024-01-30T19:39:12.686617Z"
    }
   },
   "id": "559ff7501611d76"
  },
  {
   "cell_type": "code",
   "execution_count": 43,
   "outputs": [
    {
     "name": "stdout",
     "output_type": "stream",
     "text": [
      "0 0\n"
     ]
    }
   ],
   "source": [
    "print(hardlim(np.dot(W,p4)+b), t4)"
   ],
   "metadata": {
    "collapsed": false,
    "ExecuteTime": {
     "end_time": "2024-01-30T19:39:51.219961Z",
     "start_time": "2024-01-30T19:39:51.217559Z"
    }
   },
   "id": "86381928b5fbdfc9"
  },
  {
   "cell_type": "code",
   "execution_count": 44,
   "outputs": [
    {
     "name": "stdout",
     "output_type": "stream",
     "text": [
      "1 1\n"
     ]
    }
   ],
   "source": [
    "print(hardlim(np.dot(W,p1)+b), t1)"
   ],
   "metadata": {
    "collapsed": false,
    "ExecuteTime": {
     "end_time": "2024-01-30T19:40:18.241454Z",
     "start_time": "2024-01-30T19:40:18.218155Z"
    }
   },
   "id": "66dbfbbdd96593ac"
  },
  {
   "cell_type": "code",
   "execution_count": 45,
   "outputs": [
    {
     "name": "stdout",
     "output_type": "stream",
     "text": [
      "0 1\n"
     ]
    }
   ],
   "source": [
    "print(hardlim(np.dot(W,p2)+b), t2)"
   ],
   "metadata": {
    "collapsed": false,
    "ExecuteTime": {
     "end_time": "2024-01-30T19:40:30.514140Z",
     "start_time": "2024-01-30T19:40:30.495170Z"
    }
   },
   "id": "7d639bb42f5976ad"
  },
  {
   "cell_type": "code",
   "execution_count": 46,
   "outputs": [
    {
     "name": "stdout",
     "output_type": "stream",
     "text": [
      "1 [[-2  0]] 0\n"
     ]
    }
   ],
   "source": [
    "e = t2 - hardlim(np.dot(W,p2)+b)\n",
    "W = W + e*p2.T\n",
    "b = b + e\n",
    "print(e, W, b)"
   ],
   "metadata": {
    "collapsed": false,
    "ExecuteTime": {
     "end_time": "2024-01-30T19:40:55.749382Z",
     "start_time": "2024-01-30T19:40:55.739198Z"
    }
   },
   "id": "cf2b6d20faed2fc0"
  },
  {
   "cell_type": "code",
   "execution_count": 47,
   "outputs": [
    {
     "name": "stdout",
     "output_type": "stream",
     "text": [
      "1 0\n"
     ]
    }
   ],
   "source": [
    "print(hardlim(np.dot(W,p3)+b), t3)"
   ],
   "metadata": {
    "collapsed": false,
    "ExecuteTime": {
     "end_time": "2024-01-30T19:41:17.386343Z",
     "start_time": "2024-01-30T19:41:17.365987Z"
    }
   },
   "id": "88457d4374ba48f5"
  },
  {
   "cell_type": "code",
   "execution_count": 48,
   "outputs": [
    {
     "name": "stdout",
     "output_type": "stream",
     "text": [
      "-1 [[-2  0]] -1\n"
     ]
    }
   ],
   "source": [
    "e = t3 - hardlim(np.dot(W,p3)+b)\n",
    "W = W + e*p3.T\n",
    "b = b + e\n",
    "print(e, W, b)"
   ],
   "metadata": {
    "collapsed": false,
    "ExecuteTime": {
     "end_time": "2024-01-30T19:41:34.762888Z",
     "start_time": "2024-01-30T19:41:34.750021Z"
    }
   },
   "id": "885977fd9e091bdf"
  },
  {
   "cell_type": "code",
   "execution_count": 49,
   "outputs": [
    {
     "name": "stdout",
     "output_type": "stream",
     "text": [
      "0 0\n"
     ]
    }
   ],
   "source": [
    "print(hardlim(np.dot(W,p4)+b), t4)"
   ],
   "metadata": {
    "collapsed": false,
    "ExecuteTime": {
     "end_time": "2024-01-30T19:41:51.757283Z",
     "start_time": "2024-01-30T19:41:51.744381Z"
    }
   },
   "id": "4e759e0339d6be8a"
  },
  {
   "cell_type": "code",
   "execution_count": 50,
   "outputs": [
    {
     "name": "stdout",
     "output_type": "stream",
     "text": [
      "1 1\n"
     ]
    }
   ],
   "source": [
    "print(hardlim(np.dot(W,p1)+b), t1)"
   ],
   "metadata": {
    "collapsed": false,
    "ExecuteTime": {
     "end_time": "2024-01-30T19:42:06.669535Z",
     "start_time": "2024-01-30T19:42:06.657326Z"
    }
   },
   "id": "886997d226764466"
  },
  {
   "cell_type": "code",
   "execution_count": 51,
   "outputs": [
    {
     "name": "stdout",
     "output_type": "stream",
     "text": [
      "1 1\n"
     ]
    }
   ],
   "source": [
    "print(hardlim(np.dot(W,p2)+b), t2)"
   ],
   "metadata": {
    "collapsed": false,
    "ExecuteTime": {
     "end_time": "2024-01-30T19:42:15.445944Z",
     "start_time": "2024-01-30T19:42:15.433559Z"
    }
   },
   "id": "7f2f90b85a704477"
  },
  {
   "cell_type": "code",
   "execution_count": 52,
   "outputs": [
    {
     "name": "stdout",
     "output_type": "stream",
     "text": [
      "0 0\n"
     ]
    }
   ],
   "source": [
    "print(hardlim(np.dot(W,p3)+b), t3)"
   ],
   "metadata": {
    "collapsed": false,
    "ExecuteTime": {
     "end_time": "2024-01-30T19:42:25.414087Z",
     "start_time": "2024-01-30T19:42:25.395815Z"
    }
   },
   "id": "3ba2d3bbbb07ee8e"
  },
  {
   "cell_type": "code",
   "execution_count": 53,
   "outputs": [
    {
     "name": "stdout",
     "output_type": "stream",
     "text": [
      "0 0\n"
     ]
    }
   ],
   "source": [
    "print(hardlim(np.dot(W,p4)+b), t4)"
   ],
   "metadata": {
    "collapsed": false,
    "ExecuteTime": {
     "end_time": "2024-01-30T19:42:33.610504Z",
     "start_time": "2024-01-30T19:42:33.592958Z"
    }
   },
   "id": "2c7b6b24a8e0e16d"
  },
  {
   "cell_type": "code",
   "execution_count": null,
   "outputs": [],
   "source": [
    "import numpy as np\n",
    "W = np.array([0,0],[0,0]).reshape(2,2)\n",
    "b = 0\n",
    "p1 = np.array([-1,1]).reshape(2,1)\n",
    "p2 = np.array([-1,-1]).reshape(2,1)\n",
    "p3 = np.array([0,0]).reshape(2,1)\n",
    "p4 = np.array([1,0]).reshape(2,1)\n",
    "t1 = 1\n",
    "t2 = 1\n",
    "t3 = 0\n",
    "t4 = 0"
   ],
   "metadata": {
    "collapsed": false
   },
   "id": "11bfe77332ced484"
  }
 ],
 "metadata": {
  "kernelspec": {
   "display_name": "Python 3",
   "language": "python",
   "name": "python3"
  },
  "language_info": {
   "codemirror_mode": {
    "name": "ipython",
    "version": 2
   },
   "file_extension": ".py",
   "mimetype": "text/x-python",
   "name": "python",
   "nbconvert_exporter": "python",
   "pygments_lexer": "ipython2",
   "version": "2.7.6"
  }
 },
 "nbformat": 4,
 "nbformat_minor": 5
}
